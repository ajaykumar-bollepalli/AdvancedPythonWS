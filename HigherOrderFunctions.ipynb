{
 "cells": [
  {
   "cell_type": "markdown",
   "metadata": {},
   "source": [
    "## Higher Order Functions\n",
    "\n",
    "- map()\n",
    "- reduce()\n",
    "- filter()\n",
    "\n",
    "#### map()\n",
    "\n",
    "```\n",
    "map(function, iterable, ...)\n",
    "```"
   ]
  },
  {
   "cell_type": "code",
   "execution_count": 1,
   "metadata": {},
   "outputs": [
    {
     "data": {
      "text/plain": [
       "[2, 4, 6, 8, 10, 12, 14, 16, 18, 20]"
      ]
     },
     "execution_count": 1,
     "metadata": {},
     "output_type": "execute_result"
    }
   ],
   "source": [
    "def mul_two(n):\n",
    "        return n*2\n",
    "    \n",
    "li = list(range(1,11))\n",
    "list(map(mul_two, li))"
   ]
  },
  {
   "cell_type": "code",
   "execution_count": 2,
   "metadata": {},
   "outputs": [
    {
     "data": {
      "text/plain": [
       "[1, 2, 4, 5, 6]"
      ]
     },
     "execution_count": 2,
     "metadata": {},
     "output_type": "execute_result"
    }
   ],
   "source": [
    "# converting float values in a list to int using map()\n",
    "l2 = [1.2, 2.3, 4.1, 5.4, 6.9]\n",
    "list(map(int, l2))"
   ]
  },
  {
   "cell_type": "markdown",
   "metadata": {},
   "source": [
    "#### Practice Exercise on map()\n",
    "You were given weather data (temperature in celcius) of multiple cities as a list of tuples and you need to convert the temperature to farienheit.\n",
    "\n",
    "Formula: ft = C * (9/5) + 32"
   ]
  },
  {
   "cell_type": "code",
   "execution_count": 3,
   "metadata": {},
   "outputs": [],
   "source": [
    "weather_data = [(\"Hyderabad\", 32),(\"Vijayawada\", 40),(\"Guntur\", 40),(\"Vizag\", 38),(\"Tirupati\", 31)]"
   ]
  },
  {
   "cell_type": "code",
   "execution_count": 4,
   "metadata": {},
   "outputs": [
    {
     "data": {
      "text/plain": [
       "[('Hyderabad', 89.6),\n",
       " ('Vijayawada', 104.0),\n",
       " ('Guntur', 104.0),\n",
       " ('Vizag', 100.4),\n",
       " ('Tirupati', 87.80000000000001)]"
      ]
     },
     "execution_count": 4,
     "metadata": {},
     "output_type": "execute_result"
    }
   ],
   "source": [
    "res = []\n",
    "for i in weather_data:\n",
    "    ft = i[1] * (9/5) + 32\n",
    "    entry = (i[0], ft)\n",
    "    res.append(entry)\n",
    "res"
   ]
  },
  {
   "cell_type": "markdown",
   "metadata": {},
   "source": [
    "Now using map()"
   ]
  },
  {
   "cell_type": "code",
   "execution_count": 5,
   "metadata": {},
   "outputs": [
    {
     "data": {
      "text/plain": [
       "[('Hyderabad', 89.6),\n",
       " ('Vijayawada', 104.0),\n",
       " ('Guntur', 104.0),\n",
       " ('Vizag', 100.4),\n",
       " ('Tirupati', 87.80000000000001)]"
      ]
     },
     "execution_count": 5,
     "metadata": {},
     "output_type": "execute_result"
    }
   ],
   "source": [
    "def conversion(t):\n",
    "    cn, ct = t\n",
    "    return (cn, ct*(9/5)+32)\n",
    "\n",
    "list(map(conversion, weather_data))"
   ]
  },
  {
   "cell_type": "markdown",
   "metadata": {},
   "source": [
    "### Practice Exercise 2\n",
    "\n",
    "Given a list of three dimensional points in form of tuples. Create a new list consisting of the distances of each point from origin(0,0,0).\n",
    "\n",
    "How to calculate distance from origin.?\n",
    "\n",
    "``` distance(X,Y,Z) = sqrt(X**2 + Y**2 + Z**2) ```"
   ]
  },
  {
   "cell_type": "code",
   "execution_count": 6,
   "metadata": {},
   "outputs": [
    {
     "data": {
      "text/plain": [
       "[(1, 1, 1), (1, 5, 7), (2, 4, 5), (3, 6, 9), (23, 35, 56), (22, 33, 44)]"
      ]
     },
     "execution_count": 6,
     "metadata": {},
     "output_type": "execute_result"
    }
   ],
   "source": [
    "l = [(1,1,1), (1,5,7),(2,4,5),(3,6,9),(23,35,56), (22,33,44)]\n",
    "l"
   ]
  },
  {
   "cell_type": "code",
   "execution_count": 7,
   "metadata": {},
   "outputs": [
    {
     "data": {
      "text/plain": [
       "4.0"
      ]
     },
     "execution_count": 7,
     "metadata": {},
     "output_type": "execute_result"
    }
   ],
   "source": [
    "from math import sqrt\n",
    "sqrt(16)"
   ]
  },
  {
   "cell_type": "code",
   "execution_count": 8,
   "metadata": {},
   "outputs": [
    {
     "data": {
      "text/plain": [
       "[1.7320508075688772,\n",
       " 8.660254037844387,\n",
       " 6.708203932499369,\n",
       " 11.224972160321824,\n",
       " 69.92853494818836,\n",
       " 59.23681287847955]"
      ]
     },
     "execution_count": 8,
     "metadata": {},
     "output_type": "execute_result"
    }
   ],
   "source": [
    "dist1 = []\n",
    "for t in l:\n",
    "    d = sqrt((t[0]**2) + (t[1]**2) + (t[2]**2))\n",
    "    dist1.append(d)\n",
    "    \n",
    "dist1"
   ]
  },
  {
   "cell_type": "markdown",
   "metadata": {},
   "source": [
    "Using map()"
   ]
  },
  {
   "cell_type": "code",
   "execution_count": 9,
   "metadata": {},
   "outputs": [
    {
     "data": {
      "text/plain": [
       "[1.7320508075688772,\n",
       " 8.660254037844387,\n",
       " 6.708203932499369,\n",
       " 11.224972160321824,\n",
       " 69.92853494818836,\n",
       " 59.23681287847955]"
      ]
     },
     "execution_count": 9,
     "metadata": {},
     "output_type": "execute_result"
    }
   ],
   "source": [
    "def distance(point):\n",
    "    x,y,z = point\n",
    "    return sqrt((x**2) + (y**2) + (z**2))\n",
    "\n",
    "list(map(distance, l))"
   ]
  },
  {
   "cell_type": "markdown",
   "metadata": {},
   "source": [
    "### Practice Exercise\n",
    "\n",
    "Given a list of lists of integers add all the values in the sub-list and print the sum of each sub list as a list using map()."
   ]
  },
  {
   "cell_type": "code",
   "execution_count": 10,
   "metadata": {},
   "outputs": [
    {
     "data": {
      "text/plain": [
       "[697, 2342, 11114]"
      ]
     },
     "execution_count": 10,
     "metadata": {},
     "output_type": "execute_result"
    }
   ],
   "source": [
    "l5 = [[31,231,435],[1223,454,665],[12,1223,445,656,8778]]\n",
    "\n",
    "list(map(sum, l5))\n"
   ]
  },
  {
   "cell_type": "markdown",
   "metadata": {},
   "source": [
    "## filter()\n",
    "\n",
    "``` filter(function, iterable) ```\n"
   ]
  },
  {
   "cell_type": "code",
   "execution_count": 11,
   "metadata": {},
   "outputs": [
    {
     "data": {
      "text/plain": [
       "[2, 4, 6, 8, 10]"
      ]
     },
     "execution_count": 11,
     "metadata": {},
     "output_type": "execute_result"
    }
   ],
   "source": [
    "l7 = list(range(1,11))\n",
    "\n",
    "from MyModules import myMath\n",
    "\n",
    "list(filter(myMath.isEven, l7))"
   ]
  },
  {
   "cell_type": "code",
   "execution_count": 12,
   "metadata": {},
   "outputs": [
    {
     "data": {
      "text/plain": [
       "[9, 2, 1, 2, 3, 2, 4, 6, 5]"
      ]
     },
     "execution_count": 12,
     "metadata": {},
     "output_type": "execute_result"
    }
   ],
   "source": [
    "l8 = [0,9,2,1,2,0,0,3,2,4,6,0,5]\n",
    "\n",
    "def non_zero(n):\n",
    "    if n>0:\n",
    "        return True\n",
    "    else:\n",
    "        return False\n",
    "    \n",
    "list(filter(non_zero, l8))"
   ]
  },
  {
   "cell_type": "markdown",
   "metadata": {},
   "source": [
    "### Practice Exercise\n",
    "\n",
    "Given a list of lists containing answers to an algebra exam, filter out those that did not submit a response for one of the questions, denoted by 0."
   ]
  },
  {
   "cell_type": "code",
   "execution_count": 13,
   "metadata": {},
   "outputs": [
    {
     "name": "stdout",
     "output_type": "stream",
     "text": [
      "False\n",
      "True\n",
      "False\n",
      "True\n"
     ]
    }
   ],
   "source": [
    "l8 = [[3,0,8,9],[1,2,3,4],[5,6,7,0],[23,45,67,89]]\n",
    "\n",
    "def avoid_data(l):\n",
    "    if 0 in l:\n",
    "        return False\n",
    "    else:\n",
    "        return True\n",
    "\n",
    "# using for loop\n",
    "for i in l8:\n",
    "    print(avoid_data(i))\n",
    "    "
   ]
  },
  {
   "cell_type": "code",
   "execution_count": 14,
   "metadata": {},
   "outputs": [
    {
     "data": {
      "text/plain": [
       "[[1, 2, 3, 4], [23, 45, 67, 89]]"
      ]
     },
     "execution_count": 14,
     "metadata": {},
     "output_type": "execute_result"
    }
   ],
   "source": [
    "# using filter()\n",
    "\n",
    "list(filter(avoid_data, l8))"
   ]
  },
  {
   "cell_type": "markdown",
   "metadata": {},
   "source": [
    "## Reduce()\n",
    "\n",
    "Not available by default. Need to import from functools\n",
    "```\n",
    "reduce(function, iterable[,initializer])\n",
    "```"
   ]
  },
  {
   "cell_type": "code",
   "execution_count": 16,
   "metadata": {},
   "outputs": [
    {
     "name": "stdout",
     "output_type": "stream",
     "text": [
      "Enter a number: 5\n"
     ]
    },
    {
     "data": {
      "text/plain": [
       "15"
      ]
     },
     "execution_count": 16,
     "metadata": {},
     "output_type": "execute_result"
    }
   ],
   "source": [
    "from functools import reduce\n",
    "\n",
    "n= int(input(\"Enter a number: \"))\n",
    "l9 = list(range(1,n+1))\n",
    "reduce(lambda x,y:x+y, l9)"
   ]
  },
  {
   "cell_type": "code",
   "execution_count": 18,
   "metadata": {},
   "outputs": [
    {
     "name": "stdout",
     "output_type": "stream",
     "text": [
      "Enter a number: 6\n"
     ]
    },
    {
     "data": {
      "text/plain": [
       "720"
      ]
     },
     "execution_count": 18,
     "metadata": {},
     "output_type": "execute_result"
    }
   ],
   "source": [
    "# Factorial using reduce()\n",
    "\n",
    "n= int(input(\"Enter a number: \"))\n",
    "l9 = list(range(1,n+1))\n",
    "reduce(lambda x,y:x*y, l9)"
   ]
  },
  {
   "cell_type": "code",
   "execution_count": 19,
   "metadata": {},
   "outputs": [
    {
     "data": {
      "text/plain": [
       "((((1, 2), 3), 4), 5)"
      ]
     },
     "execution_count": 19,
     "metadata": {},
     "output_type": "execute_result"
    }
   ],
   "source": [
    "l10 = [1,2,3,4,5]\n",
    "reduce(lambda x,y:(x,y), l10)"
   ]
  },
  {
   "cell_type": "markdown",
   "metadata": {},
   "source": [
    "#### Practise Exercise\n",
    "\n",
    "Average of all elements in the list and filter those elements which are greater that the average"
   ]
  },
  {
   "cell_type": "code",
   "execution_count": 20,
   "metadata": {},
   "outputs": [
    {
     "name": "stdout",
     "output_type": "stream",
     "text": [
      "Average:  5560.636363636364\n"
     ]
    },
    {
     "data": {
      "text/plain": [
       "[34987, 23468]"
      ]
     },
     "execution_count": 20,
     "metadata": {},
     "output_type": "execute_result"
    }
   ],
   "source": [
    "l11 = [322,12,46,1212,676,34987,353,23468,23,1,67]\n",
    "\n",
    "avg = sum(l11)/len(l11)\n",
    "print(\"Average: \", avg)\n",
    "\n",
    "list(filter(lambda x: x>avg, l11))"
   ]
  },
  {
   "cell_type": "code",
   "execution_count": 22,
   "metadata": {},
   "outputs": [
    {
     "name": "stdout",
     "output_type": "stream",
     "text": [
      "Average:  5560.636363636364\n"
     ]
    },
    {
     "data": {
      "text/plain": [
       "[34987, 23468]"
      ]
     },
     "execution_count": 22,
     "metadata": {},
     "output_type": "execute_result"
    }
   ],
   "source": [
    "# using reduce() instead of sum()\n",
    "avg = reduce(lambda x,y: x+y,l11)/len(l11)\n",
    "print(\"Average: \", avg)\n",
    "\n",
    "list(filter(lambda x: x>avg, l11))"
   ]
  },
  {
   "cell_type": "markdown",
   "metadata": {},
   "source": [
    "### Practice Exercise: MapReduce\n",
    "\n",
    "Using map() and reduce() collectively."
   ]
  },
  {
   "cell_type": "markdown",
   "metadata": {},
   "source": [
    "#### Given an email how do you tell if it is spam?"
   ]
  },
  {
   "cell_type": "code",
   "execution_count": 27,
   "metadata": {},
   "outputs": [
    {
     "name": "stdout",
     "output_type": "stream",
     "text": [
      "Enter a message: the is the only the in the message\n",
      "['the', 'the', 'the', 'the']\n",
      "Spam message.\n"
     ]
    }
   ],
   "source": [
    "# Using filter, a simple solution\n",
    "# Considering 'the' word. if the occurences are greater that 3 the message is spam.\n",
    "\n",
    "msg = input(\"Enter a message: \").split()\n",
    "\n",
    "words = list(filter(lambda x: x=='the', msg))\n",
    "print(words)\n",
    "if len(words)>3:\n",
    "    print(\"Spam message.\")\n",
    "else:\n",
    "    print(\"Not Spam.\")"
   ]
  }
 ],
 "metadata": {
  "kernelspec": {
   "display_name": "Python 3",
   "language": "python",
   "name": "python3"
  },
  "language_info": {
   "codemirror_mode": {
    "name": "ipython",
    "version": 3
   },
   "file_extension": ".py",
   "mimetype": "text/x-python",
   "name": "python",
   "nbconvert_exporter": "python",
   "pygments_lexer": "ipython3",
   "version": "3.6.2"
  }
 },
 "nbformat": 4,
 "nbformat_minor": 2
}
