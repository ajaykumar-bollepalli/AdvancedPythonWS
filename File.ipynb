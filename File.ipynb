{
 "cells": [
  {
   "cell_type": "markdown",
   "metadata": {},
   "source": [
    "## File based operations"
   ]
  },
  {
   "cell_type": "markdown",
   "metadata": {},
   "source": [
    "File modes\n",
    "- r: read\n",
    "- w: Write\n",
    "- a: append"
   ]
  },
  {
   "cell_type": "markdown",
   "metadata": {},
   "source": [
    "### Reading from files"
   ]
  },
  {
   "cell_type": "code",
   "execution_count": 13,
   "metadata": {},
   "outputs": [
    {
     "name": "stdout",
     "output_type": "stream",
     "text": [
      "Hello\n",
      "This is a Simple file\n",
      "For demonstration\n"
     ]
    }
   ],
   "source": [
    "f = open(\"sample.txt\",'r')\n",
    "for line in f:\n",
    "    print(line.rstrip())\n",
    "f.close()"
   ]
  },
  {
   "cell_type": "code",
   "execution_count": 14,
   "metadata": {},
   "outputs": [
    {
     "name": "stdout",
     "output_type": "stream",
     "text": [
      "Hello\n",
      "This is a Simple file\n",
      "For demonstration\n"
     ]
    }
   ],
   "source": [
    "with open(\"sample.txt\",'r') as fh:\n",
    "    for ln in fh:\n",
    "        print(ln.rstrip())"
   ]
  },
  {
   "cell_type": "markdown",
   "metadata": {},
   "source": [
    "### Writing in files"
   ]
  },
  {
   "cell_type": "markdown",
   "metadata": {},
   "source": [
    "We can use *write()* function to write data to a file."
   ]
  },
  {
   "cell_type": "code",
   "execution_count": 15,
   "metadata": {},
   "outputs": [
    {
     "data": {
      "text/plain": [
       "'C:\\\\Users\\\\google\\\\AP_Ajay'"
      ]
     },
     "execution_count": 15,
     "metadata": {},
     "output_type": "execute_result"
    }
   ],
   "source": [
    "import os\n",
    "os.getcwd() #getting current working directory"
   ]
  },
  {
   "cell_type": "code",
   "execution_count": 16,
   "metadata": {},
   "outputs": [
    {
     "name": "stdout",
     "output_type": "stream",
     "text": [
      "Writing to a file: Success\n"
     ]
    }
   ],
   "source": [
    "path = 'MyFiles/sample2.txt'\n",
    "with open(path,'w') as f:\n",
    "    txt = \"Advanced Python Programming Workshop\"\n",
    "    f.write(txt)\n",
    "    print(\"Writing to a file: Success\")\n",
    "    "
   ]
  },
  {
   "cell_type": "markdown",
   "metadata": {},
   "source": [
    "### Reading a String from user and writing it to a text file."
   ]
  },
  {
   "cell_type": "code",
   "execution_count": 17,
   "metadata": {},
   "outputs": [
    {
     "name": "stdout",
     "output_type": "stream",
     "text": [
      "Hello World of python\n",
      "Writing to a file: Success\n"
     ]
    }
   ],
   "source": [
    "path = 'MyFiles/dynamic.txt'\n",
    "with open(path,'w') as f:\n",
    "    txt = input()\n",
    "    f.write(txt)\n",
    "    print(\"Writing to a file: Success\")"
   ]
  },
  {
   "cell_type": "markdown",
   "metadata": {},
   "source": [
    "### Practice"
   ]
  },
  {
   "cell_type": "markdown",
   "metadata": {},
   "source": [
    "- Create a contact.txt file\n",
    "- Read name and contact number from user\n",
    "- Write the data to contact.txt file, one contact for each line"
   ]
  },
  {
   "cell_type": "code",
   "execution_count": 24,
   "metadata": {},
   "outputs": [
    {
     "name": "stdout",
     "output_type": "stream",
     "text": [
      "Enter Name: Chandra Sekhar\n",
      "Enter contact number: 12145687514\n",
      "Contact Saved\n"
     ]
    }
   ],
   "source": [
    "path = 'MyFiles/contact.txt'\n",
    "with open(path,'a') as f:\n",
    "    name = input(\"Enter Name: \")\n",
    "    num = input(\"Enter contact number: \")\n",
    "    f.write(name + \" : \" + num + \"\\n\")\n",
    "    print(\"Contact Saved\")"
   ]
  }
 ],
 "metadata": {
  "kernelspec": {
   "display_name": "Python 3",
   "language": "python",
   "name": "python3"
  },
  "language_info": {
   "codemirror_mode": {
    "name": "ipython",
    "version": 3
   },
   "file_extension": ".py",
   "mimetype": "text/x-python",
   "name": "python",
   "nbconvert_exporter": "python",
   "pygments_lexer": "ipython3",
   "version": "3.7.4"
  }
 },
 "nbformat": 4,
 "nbformat_minor": 2
}
