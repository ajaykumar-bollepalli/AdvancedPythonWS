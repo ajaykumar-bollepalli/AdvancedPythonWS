{
 "cells": [
  {
   "cell_type": "markdown",
   "metadata": {},
   "source": [
    "## Packages & Modules\n",
    "We can split the program into modules, which improves modularity and code reusability.\n",
    "Modules are categorised into 2 types:\n",
    "- Pre-defined\n",
    "- User-defined\n",
    "\n",
    "A Package is a folder/directory which contains some python modules *(.py files)*"
   ]
  },
  {
   "cell_type": "markdown",
   "metadata": {},
   "source": [
    "- Create a folder MyModules *(This is our Package)*\n",
    "- Create myMath.py *(This is our module)* file with some basic math operations.\n",
    "- Save the file\n",
    "- Import the myMath.py module from MyModules folder\n",
    "```\n",
    "from package import module\n",
    "```"
   ]
  },
  {
   "cell_type": "code",
   "execution_count": 2,
   "metadata": {},
   "outputs": [],
   "source": [
    "from MyModules import myMath"
   ]
  },
  {
   "cell_type": "markdown",
   "metadata": {},
   "source": [
    "You can see all the function available in myMath using *dir()*."
   ]
  },
  {
   "cell_type": "code",
   "execution_count": 3,
   "metadata": {},
   "outputs": [
    {
     "data": {
      "text/plain": [
       "['__builtins__',\n",
       " '__cached__',\n",
       " '__doc__',\n",
       " '__file__',\n",
       " '__loader__',\n",
       " '__name__',\n",
       " '__package__',\n",
       " '__spec__',\n",
       " 'isEven',\n",
       " 'isPrime']"
      ]
     },
     "execution_count": 3,
     "metadata": {},
     "output_type": "execute_result"
    }
   ],
   "source": [
    "dir(myMath)"
   ]
  },
  {
   "cell_type": "markdown",
   "metadata": {},
   "source": [
    "Try to call the functions in myMath using the syntax:\n",
    "```\n",
    "modulename.functionname()\n",
    "```"
   ]
  },
  {
   "cell_type": "code",
   "execution_count": 6,
   "metadata": {},
   "outputs": [
    {
     "name": "stdout",
     "output_type": "stream",
     "text": [
      "Enter a number: 21\n",
      "Is Even:  False\n",
      "Is Prime:  False\n"
     ]
    }
   ],
   "source": [
    "v = int(input(\"Enter a number: \"))\n",
    "\n",
    "#check if the value is even or not\n",
    "print('Is Even: ', myMath.isEven(v))\n",
    "\n",
    "# check if the value is prime or not\n",
    "print('Is Prime: ',myMath.isPrime(v))"
   ]
  },
  {
   "cell_type": "code",
   "execution_count": 10,
   "metadata": {},
   "outputs": [
    {
     "name": "stdout",
     "output_type": "stream",
     "text": [
      "Enter a number: 5\n",
      "Square:  25\n"
     ]
    }
   ],
   "source": [
    "from MyModules.myMath import isPrime, isEven # you can also import individual function\n",
    "\n",
    "v = int(input(\"Enter a number: \"))\n",
    "if isPrime(v):\n",
    "    print('Square: ', v**2)\n",
    "else:\n",
    "    print('Cube: ', v**3)"
   ]
  }
 ],
 "metadata": {
  "kernelspec": {
   "display_name": "Python 3",
   "language": "python",
   "name": "python3"
  },
  "language_info": {
   "codemirror_mode": {
    "name": "ipython",
    "version": 3
   },
   "file_extension": ".py",
   "mimetype": "text/x-python",
   "name": "python",
   "nbconvert_exporter": "python",
   "pygments_lexer": "ipython3",
   "version": "3.7.4"
  }
 },
 "nbformat": 4,
 "nbformat_minor": 2
}
