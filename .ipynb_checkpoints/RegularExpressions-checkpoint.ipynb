{
 "cells": [
  {
   "cell_type": "markdown",
   "metadata": {},
   "source": [
    "## Regular expressions\n",
    "Regular expressions are used to validate data using pattern.\n",
    "\n",
    "There is a predefined module for regular expression functions, ***re***. Import the module.\n",
    "\n"
   ]
  },
  {
   "cell_type": "code",
   "execution_count": 1,
   "metadata": {},
   "outputs": [],
   "source": [
    "import re"
   ]
  },
  {
   "cell_type": "markdown",
   "metadata": {},
   "source": [
    "#### match()"
   ]
  },
  {
   "cell_type": "code",
   "execution_count": 2,
   "metadata": {},
   "outputs": [
    {
     "data": {
      "text/plain": [
       "<re.Match object; span=(0, 1), match='a'>"
      ]
     },
     "execution_count": 2,
     "metadata": {},
     "output_type": "execute_result"
    }
   ],
   "source": [
    "re.match('a','ajay')"
   ]
  },
  {
   "cell_type": "code",
   "execution_count": 9,
   "metadata": {},
   "outputs": [],
   "source": [
    "re.match('a','naveen')"
   ]
  },
  {
   "cell_type": "markdown",
   "metadata": {},
   "source": [
    "#### search()"
   ]
  },
  {
   "cell_type": "code",
   "execution_count": 6,
   "metadata": {},
   "outputs": [
    {
     "data": {
      "text/plain": [
       "<re.Match object; span=(1, 2), match='a'>"
      ]
     },
     "execution_count": 6,
     "metadata": {},
     "output_type": "execute_result"
    }
   ],
   "source": [
    "re.search('a','naveen')"
   ]
  },
  {
   "cell_type": "markdown",
   "metadata": {},
   "source": [
    "#### findall()"
   ]
  },
  {
   "cell_type": "code",
   "execution_count": 7,
   "metadata": {},
   "outputs": [
    {
     "data": {
      "text/plain": [
       "['e', 'e']"
      ]
     },
     "execution_count": 7,
     "metadata": {},
     "output_type": "execute_result"
    }
   ],
   "source": [
    "re.findall('e', 'naveen')"
   ]
  },
  {
   "cell_type": "markdown",
   "metadata": {},
   "source": [
    "#### Regular expression symbols\n",
    "\n",
    "```\n",
    "^        Matches the beginning of a line\n",
    "$        Matches the end of the line\n",
    ".        Matches any character\n",
    "\\s       Matches whitespace\n",
    "\\S       Matches any non-whitespace character\n",
    "*        Repeats a character zero or more times\n",
    "*?       Repeats a character zero or more times (non-greedy)\n",
    "+        Repeats a character one or more times\n",
    "+?       Repeats a character one or more times (non-greedy)\n",
    "[aeiou]  Matches a single character in the listed set\n",
    "[^XYZ]   Matches a single character not in the listed set\n",
    "[a-z0-9] The set of characters can include a range\n",
    "(        Indicates where string extraction is to start\n",
    ")        Indicates where string extraction is to end\n",
    "{min,max}Length of the string\n",
    "/d       digits\n",
    "/w       characters\n",
    "```"
   ]
  },
  {
   "cell_type": "code",
   "execution_count": 11,
   "metadata": {},
   "outputs": [
    {
     "name": "stdout",
     "output_type": "stream",
     "text": [
      "Enter Name: naveen\n",
      "Not Matches\n"
     ]
    }
   ],
   "source": [
    "pattern = '^a' # the string must start with 'a'\n",
    "name = input(\"Enter Name: \")\n",
    "if re.search(pattern,name):\n",
    "    print(\"Matches\")\n",
    "else:\n",
    "    print(\"Not Matches\")"
   ]
  },
  {
   "cell_type": "code",
   "execution_count": 14,
   "metadata": {},
   "outputs": [
    {
     "name": "stdout",
     "output_type": "stream",
     "text": [
      "Enter Name: chandra\n",
      "Matches\n"
     ]
    }
   ],
   "source": [
    "pattern = 'a$' # the string must end with 'a'\n",
    "name = input(\"Enter Name: \")\n",
    "if re.search(pattern,name):\n",
    "    print(\"Matches\")\n",
    "else:\n",
    "    print(\"Not Matches\")"
   ]
  },
  {
   "cell_type": "code",
   "execution_count": 15,
   "metadata": {},
   "outputs": [
    {
     "name": "stdout",
     "output_type": "stream",
     "text": [
      "Enter Name: aj\n",
      "Matches\n"
     ]
    }
   ],
   "source": [
    "# the string must start with 'a' and end with 'j', there should not be any characters in between\n",
    "pattern = '^aj$' \n",
    "name = input(\"Enter Name: \")\n",
    "if re.search(pattern,name):\n",
    "    print(\"Matches\")\n",
    "else:\n",
    "    print(\"Not Matches\")"
   ]
  },
  {
   "cell_type": "code",
   "execution_count": 16,
   "metadata": {},
   "outputs": [
    {
     "name": "stdout",
     "output_type": "stream",
     "text": [
      "Enter Name: aaj\n",
      "Matches\n"
     ]
    }
   ],
   "source": [
    "# the string must start with 'a' and end with 'j', there should be any one character in between\n",
    "pattern = '^a.j$' \n",
    "name = input(\"Enter Name: \")\n",
    "if re.search(pattern,name):\n",
    "    print(\"Matches\")\n",
    "else:\n",
    "    print(\"Not Matches\")"
   ]
  },
  {
   "cell_type": "markdown",
   "metadata": {},
   "source": [
    "#### Checking for a valid name"
   ]
  },
  {
   "cell_type": "code",
   "execution_count": 36,
   "metadata": {},
   "outputs": [
    {
     "name": "stdout",
     "output_type": "stream",
     "text": [
      "Enter Name: Arun Kumar\n",
      "Valid\n"
     ]
    }
   ],
   "source": [
    "pattern = '^[A-Za-z\\s]*' \n",
    "name = input(\"Enter Name: \")\n",
    "if re.search(pattern,name):\n",
    "    print(\"Valid\")\n",
    "else:\n",
    "    print(\"Not Valid\")"
   ]
  },
  {
   "cell_type": "markdown",
   "metadata": {},
   "source": [
    "#### Checking for a vaild mobile number"
   ]
  },
  {
   "cell_type": "code",
   "execution_count": 24,
   "metadata": {},
   "outputs": [
    {
     "name": "stdout",
     "output_type": "stream",
     "text": [
      "Enter Mobile number: 9182799119\n",
      "Valid\n"
     ]
    }
   ],
   "source": [
    "patternM = '^[6-9]\\d{9}$'\n",
    "num = input(\"Enter Mobile number: \")\n",
    "if(re.search(patternM,num)):\n",
    "    print(\"Valid\")\n",
    "else:\n",
    "    print(\"Not Valid\")"
   ]
  },
  {
   "cell_type": "markdown",
   "metadata": {},
   "source": [
    "### Practice: Validating Name and Mobile number before storing them in file"
   ]
  },
  {
   "cell_type": "markdown",
   "metadata": {},
   "source": [
    "Create a module with required methods"
   ]
  },
  {
   "cell_type": "code",
   "execution_count": 2,
   "metadata": {},
   "outputs": [
    {
     "name": "stdout",
     "output_type": "stream",
     "text": [
      "Enter Name: Naveen\n",
      "Enter contact number: 7894561230\n",
      "Contact Saved\n"
     ]
    }
   ],
   "source": [
    "\n",
    "from MyModules import contacts\n",
    "\n",
    "nam = input(\"Enter Name: \")\n",
    "cont = input(\"Enter contact number: \")\n",
    "\n",
    "contacts.createContact(nam,cont)"
   ]
  },
  {
   "cell_type": "code",
   "execution_count": 3,
   "metadata": {},
   "outputs": [
    {
     "name": "stdout",
     "output_type": "stream",
     "text": [
      "Enter Name: Tim McGee\n",
      "Enter contact number: 1234568a\n",
      "Error: Invalid details\n"
     ]
    }
   ],
   "source": [
    "nam = input(\"Enter Name: \")\n",
    "cont = input(\"Enter contact number: \")\n",
    "\n",
    "contacts.createContact(nam,cont)"
   ]
  }
 ],
 "metadata": {
  "kernelspec": {
   "display_name": "Python 3",
   "language": "python",
   "name": "python3"
  },
  "language_info": {
   "codemirror_mode": {
    "name": "ipython",
    "version": 3
   },
   "file_extension": ".py",
   "mimetype": "text/x-python",
   "name": "python",
   "nbconvert_exporter": "python",
   "pygments_lexer": "ipython3",
   "version": "3.7.4"
  }
 },
 "nbformat": 4,
 "nbformat_minor": 2
}
